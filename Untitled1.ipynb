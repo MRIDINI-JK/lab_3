{
 "cells": [
  {
   "cell_type": "code",
   "execution_count": null,
   "id": "052379cb-89d0-4d35-b0a2-afbe485b6f58",
   "metadata": {},
   "outputs": [],
   "source": []
  }
 ],
 "metadata": {
  "kernelspec": {
   "display_name": "",
   "name": ""
  },
  "language_info": {
   "name": ""
  }
 },
 "nbformat": 4,
 "nbformat_minor": 5
}
