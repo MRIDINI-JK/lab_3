{
 "cells": [
  {
   "cell_type": "code",
   "execution_count": 1,
   "id": "052379cb-89d0-4d35-b0a2-afbe485b6f58",
   "metadata": {},
   "outputs": [
    {
     "name": "stdout",
     "output_type": "stream",
     "text": [
      "Pattern found at index 0\n",
      "Pattern found at index 8\n",
      "Pattern found at index 10\n"
     ]
    }
   ],
   "source": [
    "def search(pat, txt):\n",
    "    m = len(pat)\n",
    "    n = len(txt)\n",
    "\n",
    "    for i in range(n - m + 1):\n",
    "        match = True\n",
    "        for j in range(m):\n",
    "            if txt[i + j] != pat[j]:\n",
    "                match = False\n",
    "                break\n",
    "        if match:\n",
    "            print(f\"Pattern found at index {i}\")\n",
    "\n",
    "# Example usage\n",
    "txt = \"ababcabcabababd\"\n",
    "pat = \"abab\"\n",
    "search(pat, txt)\n"
   ]
  },
  {
   "cell_type": "code",
   "execution_count": null,
   "id": "cb18c3de-3251-4c86-a86e-68627dc728bd",
   "metadata": {},
   "outputs": [],
   "source": []
  }
 ],
 "metadata": {
  "kernelspec": {
   "display_name": "Python [conda env:base] *",
   "language": "python",
   "name": "conda-base-py"
  },
  "language_info": {
   "codemirror_mode": {
    "name": "ipython",
    "version": 3
   },
   "file_extension": ".py",
   "mimetype": "text/x-python",
   "name": "python",
   "nbconvert_exporter": "python",
   "pygments_lexer": "ipython3",
   "version": "3.13.5"
  }
 },
 "nbformat": 4,
 "nbformat_minor": 5
}
